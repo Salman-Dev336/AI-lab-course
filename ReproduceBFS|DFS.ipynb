{
  "nbformat": 4,
  "nbformat_minor": 0,
  "metadata": {
    "colab": {
      "provenance": [],
      "authorship_tag": "ABX9TyNkj47HArAK/8iWlHWTuLI2",
      "include_colab_link": true
    },
    "kernelspec": {
      "name": "python3",
      "display_name": "Python 3"
    },
    "language_info": {
      "name": "python"
    }
  },
  "cells": [
    {
      "cell_type": "markdown",
      "metadata": {
        "id": "view-in-github",
        "colab_type": "text"
      },
      "source": [
        "<a href=\"https://colab.research.google.com/github/Salman-Dev336/AI-lab-course/blob/main/ReproduceBFS%7CDFS.ipynb\" target=\"_parent\"><img src=\"https://colab.research.google.com/assets/colab-badge.svg\" alt=\"Open In Colab\"/></a>"
      ]
    },
    {
      "cell_type": "code",
      "execution_count": null,
      "metadata": {
        "colab": {
          "base_uri": "https://localhost:8080/"
        },
        "id": "MA3u8yyt8bTm",
        "outputId": "86532ed4-b3ac-48a2-f268-24fdf43dac8f"
      },
      "outputs": [
        {
          "output_type": "stream",
          "name": "stdout",
          "text": [
            "BFS Shortest Path from Dublin to Derry: ['Dublin', 'Drogheda', 'Belfast', 'Derry']\n",
            "DFS Path from Dublin to Derry: ['Dublin', 'Drogheda', 'Belfast', 'Derry']\n"
          ]
        }
      ],
      "source": [
        "from collections import deque\n",
        "\n",
        "# Undirected graph of Ireland cities\n",
        "ireland_cities = {\n",
        "    \"Dublin\": [\"Drogheda\", \"Galway\", \"Cork\"],\n",
        "    \"Drogheda\": [\"Dublin\", \"Belfast\"],\n",
        "    \"Belfast\": [\"Drogheda\", \"Derry\"],\n",
        "    \"Derry\": [\"Belfast\", \"Sligo\"],\n",
        "    \"Sligo\": [\"Derry\", \"Galway\"],\n",
        "    \"Galway\": [\"Sligo\", \"Dublin\", \"Limerick\"],\n",
        "    \"Limerick\": [\"Galway\", \"Cork\"],\n",
        "    \"Cork\": [\"Limerick\", \"Dublin\"],\n",
        "}\n",
        "\n",
        "\n",
        "def bfs_shortest_path(graph, start, goal):\n",
        "    # Initialize a queue with the starting path\n",
        "    queue = deque([[start]])\n",
        "\n",
        "    # Keep track of visited cities\n",
        "    visited = set()\n",
        "\n",
        "    while queue:\n",
        "        # Remove the first path from the queue\n",
        "        path = queue.popleft()\n",
        "        current_city = path[-1]  # Last node in the path\n",
        "\n",
        "        # If the goal is reached, return the path\n",
        "        if current_city == goal:\n",
        "            return path\n",
        "\n",
        "        # If current city not visited\n",
        "        if current_city not in visited:\n",
        "            visited.add(current_city)\n",
        "\n",
        "            # Explore neighbors\n",
        "            for neighbor in graph.get(current_city, []):\n",
        "                new_path = list(path)  # Copy current path\n",
        "                new_path.append(neighbor)  # Add neighbor\n",
        "                queue.append(new_path)  # Add new path to queue\n",
        "\n",
        "    # If no path found\n",
        "    return None\n",
        "\n",
        "\n",
        "def dfs_path(graph, start, goal, path=None, visited=None):\n",
        "    if path is None:\n",
        "        path = []\n",
        "    if visited is None:\n",
        "        visited = set()\n",
        "\n",
        "    # Add current city to path and mark as visited\n",
        "    path.append(start)\n",
        "    visited.add(start)\n",
        "\n",
        "    # If goal is reached\n",
        "    if start == goal:\n",
        "        return path\n",
        "\n",
        "    # Explore neighbors recursively\n",
        "    for neighbor in graph.get(start, []):\n",
        "        if neighbor not in visited:\n",
        "            result = dfs_path(graph, neighbor, goal, path.copy(), visited.copy())\n",
        "            if result:\n",
        "                return result\n",
        "\n",
        "    # If no path found\n",
        "    return None\n",
        "\n",
        "\n",
        "# Example usage\n",
        "start_city = \"Dublin\"\n",
        "goal_city = \"Derry\"\n",
        "\n",
        "bfs_result = bfs_shortest_path(ireland_cities, start_city, goal_city)\n",
        "print(\"BFS Shortest Path from Dublin to Derry:\", bfs_result)\n",
        "\n",
        "dfs_result = dfs_path(ireland_cities, start_city, goal_city)\n",
        "print(\"DFS Path from Dublin to Derry:\", dfs_result)\n",
        "\n",
        "\n",
        "\n",
        "\n",
        "\n",
        "\n",
        "\n"
      ]
    }
  ]
}