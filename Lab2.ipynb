{
  "nbformat": 4,
  "nbformat_minor": 0,
  "metadata": {
    "colab": {
      "provenance": [],
      "toc_visible": true
    },
    "kernelspec": {
      "name": "python3",
      "display_name": "Python 3"
    },
    "language_info": {
      "name": "python"
    }
  },
  "cells": [
    {
      "cell_type": "markdown",
      "source": [
        "# Task1: lists\n"
      ],
      "metadata": {
        "id": "sySeR7qf5BoN"
      }
    },
    {
      "cell_type": "code",
      "source": [
        "!pip install numpy"
      ],
      "metadata": {
        "colab": {
          "base_uri": "https://localhost:8080/"
        },
        "id": "yQziqQbQAcsu",
        "outputId": "4b15928a-23f5-45ee-8d49-b715c7a96d6b"
      },
      "execution_count": null,
      "outputs": [
        {
          "output_type": "stream",
          "name": "stdout",
          "text": [
            "Requirement already satisfied: numpy in /usr/local/lib/python3.12/dist-packages (2.0.2)\n"
          ]
        }
      ]
    },
    {
      "cell_type": "code",
      "source": [
        "#creating a list of 10 integers\n",
        "numbers = [2, 4, 6, 8, 10, 12, 14, 16, 18, 20]\n",
        "print('original List', numbers)\n",
        "\n",
        "#sum\n",
        "print('sum', sum(numbers))\n",
        "\n",
        "#maximum\n",
        "print('maximum', max(numbers))\n",
        "\n",
        "#minimum\n",
        "print('minimum ', min(numbers))\n",
        "\n",
        "\n",
        "#adding new element to the list\n",
        "numbers.append(22)\n",
        "\n",
        "#removing element from the list\n",
        "numbers.remove(20)\n",
        "\n",
        "#print new list\n",
        "print('updated list ', numbers)\n",
        "\n",
        "\n"
      ],
      "metadata": {
        "colab": {
          "base_uri": "https://localhost:8080/"
        },
        "id": "DPMp3FR7AtcH",
        "outputId": "38ebb8fb-b124-4cd8-85ce-d630b7099e9c"
      },
      "execution_count": null,
      "outputs": [
        {
          "output_type": "stream",
          "name": "stdout",
          "text": [
            "original List [2, 4, 6, 8, 10, 12, 14, 16, 18, 20]\n",
            "sum 110\n",
            "maximum 20\n",
            "minimum  2\n",
            "updated lis  [2, 4, 6, 8, 10, 12, 14, 16, 18, 22]\n"
          ]
        }
      ]
    },
    {
      "cell_type": "markdown",
      "source": [
        "# Task3: sets\n"
      ],
      "metadata": {
        "id": "rDCuMNxx6MYn"
      }
    },
    {
      "cell_type": "code",
      "source": [
        "#two set with unique elements\n",
        "\n",
        "set_a = {1,2,3,4,5}\n",
        "set_b = {4,5,6,7,8}\n",
        "\n",
        "# uniion and intersection\n",
        "\n",
        "print('union', set_a | set_b)\n",
        "print('Intersection', set_a & set_b)\n",
        "print('Differnce', set_a - set_b)"
      ],
      "metadata": {
        "id": "zY-XptvjMxWf",
        "outputId": "a93546cd-6c9c-499a-f86e-8d658ac86ea8",
        "colab": {
          "base_uri": "https://localhost:8080/"
        }
      },
      "execution_count": 9,
      "outputs": [
        {
          "output_type": "stream",
          "name": "stdout",
          "text": [
            "union {1, 2, 3, 4, 5, 6, 7, 8}\n",
            "Intersection {4, 5}\n",
            "Differnce {1, 2, 3}\n"
          ]
        }
      ]
    },
    {
      "cell_type": "markdown",
      "source": [],
      "metadata": {
        "id": "4cK2TiluAWXE"
      }
    },
    {
      "cell_type": "markdown",
      "source": [
        "# Task4: dictonaries"
      ],
      "metadata": {
        "id": "U0P-ZpOf5bqc"
      }
    },
    {
      "cell_type": "code",
      "source": [
        "# creta 5 unique Keys\n",
        "students = {'Ali': 85,'Salman':90,'Rehman':30,'Yawar':40}\n",
        "\n",
        "print('Keys', students.keys())\n",
        "print('Values', students.values())"
      ],
      "metadata": {
        "id": "RkmaVPzC7GOB",
        "colab": {
          "base_uri": "https://localhost:8080/"
        },
        "outputId": "8b075f71-c169-478b-9556-6445c0277c98"
      },
      "execution_count": 7,
      "outputs": [
        {
          "output_type": "stream",
          "name": "stdout",
          "text": [
            "Keys dict_keys(['Ali', 'Salman', 'Rehman', 'Yawar'])\n",
            "Values dict_values([85, 90, 30, 40])\n"
          ]
        }
      ]
    },
    {
      "cell_type": "markdown",
      "source": [
        "# Task5: numpy"
      ],
      "metadata": {
        "id": "Hz5WNJKj5b0m"
      }
    },
    {
      "cell_type": "markdown",
      "source": [
        "# Task06: matplotlib"
      ],
      "metadata": {
        "id": "0PZRso8H5cjr"
      }
    },
    {
      "cell_type": "markdown",
      "source": [
        "# Task02: tuples\n"
      ],
      "metadata": {
        "id": "shYSm5fu78Sy"
      }
    },
    {
      "cell_type": "code",
      "source": [
        "# Create a tuple of 5 Strings\n",
        "fruits = ('apple','Banana','cherry','mango','grape')\n",
        "print('Second element', fruits[1])\n",
        "print('Last one', fruits[-1])\n",
        "\n",
        "# convert tuple into list\n",
        "fruits_list = list(fruits)\n",
        "fruits_list[2] = 'orange'\n",
        "print('Modified', fruits_list)"
      ],
      "metadata": {
        "colab": {
          "base_uri": "https://localhost:8080/"
        },
        "id": "WoacRwm9Mq_7",
        "outputId": "0e5c3910-24a9-4656-979b-ee283e215d9e"
      },
      "execution_count": 8,
      "outputs": [
        {
          "output_type": "stream",
          "name": "stdout",
          "text": [
            "Second element Banana\n",
            "Last one grape\n",
            "Modified ['apple', 'Banana', 'orange', 'mango', 'grape']\n"
          ]
        }
      ]
    }
  ]
}