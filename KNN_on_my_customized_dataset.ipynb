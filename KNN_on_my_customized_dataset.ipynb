{
  "nbformat": 4,
  "nbformat_minor": 0,
  "metadata": {
    "colab": {
      "provenance": [],
      "mount_file_id": "1S56-jh6EeWVP4prWY1OoDQEBo7j0MW0Y",
      "authorship_tag": "ABX9TyMNpVfZusWjpJDVuYYLo6CY",
      "include_colab_link": true
    },
    "kernelspec": {
      "name": "python3",
      "display_name": "Python 3"
    },
    "language_info": {
      "name": "python"
    }
  },
  "cells": [
    {
      "cell_type": "markdown",
      "metadata": {
        "id": "view-in-github",
        "colab_type": "text"
      },
      "source": [
        "<a href=\"https://colab.research.google.com/github/Salman-Dev336/AI-lab-course/blob/main/KNN_on_my_customized_dataset.ipynb\" target=\"_parent\"><img src=\"https://colab.research.google.com/assets/colab-badge.svg\" alt=\"Open In Colab\"/></a>"
      ]
    },
    {
      "cell_type": "code",
      "execution_count": 1,
      "metadata": {
        "colab": {
          "base_uri": "https://localhost:8080/"
        },
        "id": "UmNfdJNjgQd4",
        "outputId": "2ef3549a-a4b3-43aa-fc21-c398acc2152c"
      },
      "outputs": [
        {
          "output_type": "stream",
          "name": "stdout",
          "text": [
            "Dataset Preview:\n",
            "            Name        Reg No  Age  Gender\n",
            "0       Ali Khan  FA21-BSE-001   18    Male\n",
            "1     Sara Ahmed  FA21-BSE-002   18    Male\n",
            "2  Bilal Hussain  FA21-BSE-003   18  Female\n",
            "3   Ayesha Malik  FA21-BSE-004   25  Female\n",
            "4    Hassan Raza  FA21-BSE-005   21    Male \n",
            "\n",
            "Training Accuracy: 0.6875\n",
            "Testing Accuracy: 0.5 \n",
            "\n",
            "Predicted Gender for a 21-year-old student: Male\n"
          ]
        },
        {
          "output_type": "stream",
          "name": "stderr",
          "text": [
            "/usr/local/lib/python3.12/dist-packages/sklearn/utils/validation.py:2739: UserWarning: X does not have valid feature names, but KNeighborsClassifier was fitted with feature names\n",
            "  warnings.warn(\n"
          ]
        }
      ],
      "source": [
        "# ===============================\n",
        "#   KNN Model on Custom Dataset\n",
        "#   Author: Salman Khan\n",
        "#   Dataset: Class_Data_FA21_BSE.csv\n",
        "# ===============================\n",
        "\n",
        "# Step 1: Import libraries\n",
        "import pandas as pd\n",
        "from sklearn.model_selection import train_test_split\n",
        "from sklearn.neighbors import KNeighborsClassifier\n",
        "from sklearn.preprocessing import LabelEncoder\n",
        "from sklearn.metrics import accuracy_score\n",
        "\n",
        "# Step 2: Load your dataset\n",
        "data = pd.read_csv(\"/content/drive/MyDrive/Customized Data set of my class/Class_Data_FA21_BSE.csv\")\n",
        "\n",
        "# Display first few rows\n",
        "print(\"Dataset Preview:\")\n",
        "print(data.head(), \"\\n\")\n",
        "\n",
        "# Step 3: Select features and target\n",
        "# We will predict Gender using Age\n",
        "X = data[['Age']]          # Feature(s)\n",
        "y = data['Gender']         # Target label\n",
        "\n",
        "# Step 4: Encode Gender (Male/Female → 0/1)\n",
        "le = LabelEncoder()\n",
        "y = le.fit_transform(y)\n",
        "\n",
        "# Step 5: Split data into training and testing sets (80% train, 20% test)\n",
        "X_train, X_test, y_train, y_test = train_test_split(\n",
        "    X, y, test_size=0.2, random_state=43\n",
        ")\n",
        "\n",
        "# Step 6: Create and train the KNN model (k = 3)\n",
        "model = KNeighborsClassifier(n_neighbors=3)\n",
        "model.fit(X_train, y_train)\n",
        "\n",
        "# Step 7: Make predictions\n",
        "y_train_pred = model.predict(X_train)\n",
        "y_test_pred = model.predict(X_test)\n",
        "\n",
        "# Step 8: Evaluate accuracy\n",
        "train_accuracy = accuracy_score(y_train, y_train_pred)\n",
        "test_accuracy = accuracy_score(y_test, y_test_pred)\n",
        "\n",
        "print(\"Training Accuracy:\", train_accuracy)\n",
        "print(\"Testing Accuracy:\", test_accuracy, \"\\n\")\n",
        "\n",
        "# Step 9: Predict for a new student (Example)\n",
        "new_student = [[21]]   # Student aged 21\n",
        "predicted_gender = le.inverse_transform(model.predict(new_student))\n",
        "print(\"Predicted Gender for a 21-year-old student:\", predicted_gender[0])\n"
      ]
    }
  ]
}