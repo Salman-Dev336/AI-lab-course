{
  "nbformat": 4,
  "nbformat_minor": 0,
  "metadata": {
    "colab": {
      "provenance": [],
      "authorship_tag": "ABX9TyNhMHST4TrKHWUaxA1bAkHD",
      "include_colab_link": true
    },
    "kernelspec": {
      "name": "python3",
      "display_name": "Python 3"
    },
    "language_info": {
      "name": "python"
    }
  },
  "cells": [
    {
      "cell_type": "markdown",
      "metadata": {
        "id": "view-in-github",
        "colab_type": "text"
      },
      "source": [
        "<a href=\"https://colab.research.google.com/github/Salman-Dev336/AI-lab-course/blob/main/Midlab.ipynb\" target=\"_parent\"><img src=\"https://colab.research.google.com/assets/colab-badge.svg\" alt=\"Open In Colab\"/></a>"
      ]
    },
    {
      "cell_type": "markdown",
      "source": [
        "Name: Salman Khan\n"
      ],
      "metadata": {
        "id": "kfABSe2xeK4S"
      }
    },
    {
      "cell_type": "markdown",
      "source": [
        "Reg No: SP23-BSE-120"
      ],
      "metadata": {
        "id": "IsR_Jtl7eQdy"
      }
    },
    {
      "cell_type": "markdown",
      "source": [
        "1) BFS IMPLEMENTATION"
      ],
      "metadata": {
        "id": "fJ9WI3FneVPI"
      }
    },
    {
      "cell_type": "code",
      "source": [
        "from collections import deque\n",
        "\n",
        "def is_valid(state):\n",
        "    M_left, C_left, boat = state\n",
        "    M_right, C_right = 3 - M_left, 3 - C_left\n",
        "\n",
        "    # Check boundaries\n",
        "    if M_left < 0 or C_left < 0 or M_right < 0 or C_right < 0:\n",
        "        return False\n",
        "\n",
        "    # Cannibals cannot outnumber missionaries (if missionaries > 0)\n",
        "    if (M_left > 0 and C_left > M_left) or (M_right > 0 and C_right > M_right):\n",
        "        return False\n",
        "\n",
        "    return True\n",
        "\n",
        "def successors(state):\n",
        "    M_left, C_left, boat = state\n",
        "    moves = [(1,0),(2,0),(0,1),(0,2),(1,1)]  # possible combinations\n",
        "\n",
        "    next_states = []\n",
        "    for m, c in moves:\n",
        "        if boat == 'left':\n",
        "            new_state = (M_left - m, C_left - c, 'right')\n",
        "        else:\n",
        "            new_state = (M_left + m, C_left + c, 'left')\n",
        "\n",
        "        if is_valid(new_state):\n",
        "            next_states.append(new_state)\n",
        "    return next_states\n",
        "\n",
        "def bfs(start, goal):\n",
        "    queue = deque([[start]])\n",
        "    visited = set([start])\n",
        "\n",
        "    while queue:\n",
        "        path = queue.popleft()\n",
        "        state = path[-1]\n",
        "        if state == goal:\n",
        "            return path\n",
        "        for next_state in successors(state):\n",
        "            if next_state not in visited:\n",
        "                visited.add(next_state)\n",
        "                queue.append(path + [next_state])\n",
        "    return None\n",
        "\n",
        "start = (3, 3, 'left')\n",
        "goal = (0, 0, 'right')\n",
        "solution = bfs(start, goal)\n",
        "\n",
        "print(\"BFS Solution Path:\")\n",
        "for s in solution:\n",
        "    print(s)\n"
      ],
      "metadata": {
        "colab": {
          "base_uri": "https://localhost:8080/"
        },
        "id": "fbpEKc98efCa",
        "outputId": "e0248ab6-7ca4-48fa-e3cc-967b1fafde0d"
      },
      "execution_count": 1,
      "outputs": [
        {
          "output_type": "stream",
          "name": "stdout",
          "text": [
            "BFS Solution Path:\n",
            "(3, 3, 'left')\n",
            "(3, 1, 'right')\n",
            "(3, 2, 'left')\n",
            "(3, 0, 'right')\n",
            "(3, 1, 'left')\n",
            "(1, 1, 'right')\n",
            "(2, 2, 'left')\n",
            "(0, 2, 'right')\n",
            "(0, 3, 'left')\n",
            "(0, 1, 'right')\n",
            "(1, 1, 'left')\n",
            "(0, 0, 'right')\n"
          ]
        }
      ]
    },
    {
      "cell_type": "markdown",
      "source": [
        "2) DFS IMPLEMENTATION"
      ],
      "metadata": {
        "id": "czdhqDddeu_-"
      }
    },
    {
      "cell_type": "code",
      "source": [
        "def dfs(start, goal, path=None, visited=None):\n",
        "    if path is None:\n",
        "        path = [start]\n",
        "    if visited is None:\n",
        "        visited = set()\n",
        "\n",
        "    state = path[-1]\n",
        "    if state == goal:\n",
        "        return path\n",
        "\n",
        "    visited.add(state)\n",
        "\n",
        "    for next_state in successors(state):\n",
        "        if next_state not in visited:\n",
        "            result = dfs(start, goal, path + [next_state], visited)\n",
        "            if result:\n",
        "                return result\n",
        "    return None\n",
        "\n",
        "start = (3, 3, 'left')\n",
        "goal = (0, 0, 'right')\n",
        "solution = dfs(start, goal)\n",
        "\n",
        "print(\"DFS Solution Path:\")\n",
        "for s in solution:\n",
        "    print(s)\n"
      ],
      "metadata": {
        "colab": {
          "base_uri": "https://localhost:8080/"
        },
        "id": "ngcydNnCezCo",
        "outputId": "af62eef1-9dbb-48cb-c6eb-9a38fbd074b9"
      },
      "execution_count": 2,
      "outputs": [
        {
          "output_type": "stream",
          "name": "stdout",
          "text": [
            "DFS Solution Path:\n",
            "(3, 3, 'left')\n",
            "(3, 1, 'right')\n",
            "(3, 2, 'left')\n",
            "(3, 0, 'right')\n",
            "(3, 1, 'left')\n",
            "(1, 1, 'right')\n",
            "(2, 2, 'left')\n",
            "(0, 2, 'right')\n",
            "(0, 3, 'left')\n",
            "(0, 1, 'right')\n",
            "(1, 1, 'left')\n",
            "(0, 0, 'right')\n"
          ]
        }
      ]
    },
    {
      "cell_type": "markdown",
      "source": [
        "3) APPLYING A* SEARCH ALGORITHM"
      ],
      "metadata": {
        "id": "wnLXyi_WfBob"
      }
    },
    {
      "cell_type": "code",
      "source": [
        "import heapq\n",
        "\n",
        "def heuristic(state):\n",
        "    # Simple heuristic: number of people left on the left bank\n",
        "    M_left, C_left, _ = state\n",
        "    return M_left + C_left\n",
        "\n",
        "def a_star(start, goal):\n",
        "    frontier = []\n",
        "    heapq.heappush(frontier, (0, [start]))\n",
        "    visited = set()\n",
        "\n",
        "    while frontier:\n",
        "        cost, path = heapq.heappop(frontier)\n",
        "        state = path[-1]\n",
        "\n",
        "        if state == goal:\n",
        "            return path\n",
        "\n",
        "        if state in visited:\n",
        "            continue\n",
        "        visited.add(state)\n",
        "\n",
        "        for next_state in successors(state):\n",
        "            new_cost = len(path) + heuristic(next_state)\n",
        "            heapq.heappush(frontier, (new_cost, path + [next_state]))\n",
        "\n",
        "    return None\n",
        "\n",
        "start = (3, 3, 'left')\n",
        "goal = (0, 0, 'right')\n",
        "solution = a_star(start, goal)\n",
        "\n",
        "print(\"A* Solution Path:\")\n",
        "for s in solution:\n",
        "    print(s)\n"
      ],
      "metadata": {
        "colab": {
          "base_uri": "https://localhost:8080/"
        },
        "id": "Sus48NJWfIR0",
        "outputId": "18118b6f-afb7-42c4-eb1b-6c4b5af952e1"
      },
      "execution_count": 3,
      "outputs": [
        {
          "output_type": "stream",
          "name": "stdout",
          "text": [
            "A* Solution Path:\n",
            "(3, 3, 'left')\n",
            "(2, 2, 'right')\n",
            "(3, 2, 'left')\n",
            "(3, 0, 'right')\n",
            "(3, 1, 'left')\n",
            "(1, 1, 'right')\n",
            "(2, 2, 'left')\n",
            "(0, 2, 'right')\n",
            "(0, 3, 'left')\n",
            "(0, 1, 'right')\n",
            "(0, 2, 'left')\n",
            "(0, 0, 'right')\n"
          ]
        }
      ]
    },
    {
      "cell_type": "markdown",
      "source": [
        "Comparisons of DFS ,BFS, AND A*\n",
        "In this problem, all three algorithms—BFS, DFS, and A*—successfully find a valid sequence of moves, but they differ in how they explore the search space. The Breadth-First Search (BFS) explores all possible states level by level and always finds the shortest solution, but it requires more memory and time. The Depth-First Search (DFS) explores one path deeply before backtracking, so it uses less memory and is faster, but it may not find the shortest solution. The A* algorithm uses a heuristic function to estimate the remaining cost, guiding the search more intelligently toward the goal. It is more efficient than BFS and usually finds the optimal path with fewer explored states. Overall, BFS guarantees the shortest path, DFS is simpler but not optimal, and A* provides the best balance between speed, memory, and accuracy."
      ],
      "metadata": {
        "id": "g8RUebrzf6bb"
      }
    }
  ]
}